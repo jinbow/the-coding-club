{
 "cells": [
  {
   "cell_type": "markdown",
   "id": "35c4fc9b-781c-47cd-be0c-43886fd14d27",
   "metadata": {},
   "source": [
    "# Scale-up analysis in the cloud -- Option 1: Dask within a single EC2\n",
    "\n",
    "### Revision history\n",
    "\n",
    "1. 3/20/2023, first draft, Jinbo Wang\n",
    "\n",
    "Produced by the PO.DAAC coding club. <br>\n",
    "Supported by NASA ESDIS PO.DAAC.\n"
   ]
  },
  {
   "cell_type": "code",
   "execution_count": 1,
   "id": "ad0f25a3-af77-4b47-9fa2-7bbcc7531da3",
   "metadata": {
    "tags": []
   },
   "outputs": [],
   "source": [
    "# Import necessary libraries\n",
    "import xarray as xr\n",
    "import dask.array as da\n",
    "from dask.distributed import Client, LocalCluster, progress\n",
    "from dask import delayed\n",
    "import h5py\n",
    "import numpy as np\n",
    "\n",
    "#import earthaccess"
   ]
  },
  {
   "cell_type": "code",
   "execution_count": 4,
   "id": "44624945-043a-4032-83b6-9345087109b7",
   "metadata": {
    "tags": []
   },
   "outputs": [
    {
     "name": "stdout",
     "output_type": "stream",
     "text": [
      "64\n"
     ]
    }
   ],
   "source": [
    "# Set up a Dask cluster with 50 workers\n",
    "\n",
    "# Automatically detect available vCPUs\n",
    "import multiprocessing\n",
    "n_workers = multiprocessing.cpu_count()\n",
    "print(n_workers)"
   ]
  },
  {
   "cell_type": "code",
   "execution_count": 5,
   "id": "0f264286-02da-48eb-a85e-9c2e8268b52e",
   "metadata": {
    "tags": []
   },
   "outputs": [],
   "source": [
    "# Create a LocalCluster with as many workers as vCPUs\n",
    "\n",
    "#cluster = LocalCluster(n_workers=16, threads_per_worker=8)\n",
    "#client = Client(cluster)\n",
    "\n",
    "#print(cluster)\n",
    "#cluster = LocalCluster(n_workers=50, threads_per_worker=1)\n",
    "\n",
    "#Using dask-labextension makes it easyy to use the Dask dashboard. https://github.com/dask/dask-labextension\n",
    "#Start a dask LocalCluster and change the port number below accordingly\n",
    "\n",
    "client = Client('tcp://127.0.0.1:43247')"
   ]
  },
  {
   "cell_type": "code",
   "execution_count": 6,
   "id": "0ffe7411-e8de-4647-a4b4-4c36bacd0e91",
   "metadata": {
    "tags": []
   },
   "outputs": [],
   "source": [
    "def init_S3FileSystem():\n",
    "    \"\"\"\n",
    "    This routine automatically pull your EDL crediential from .netrc file and use it to obtain an AWS S3 credential through a podaac service accessable at https://archive.podaac.earthdata.nasa.gov/s3credentials\n",
    "    \n",
    "    Return:\n",
    "    =======\n",
    "    \n",
    "    s3: an AWS S3 filesystem\n",
    "    \"\"\"\n",
    "    import requests,s3fs\n",
    "    creds = requests.get('https://archive.podaac.earthdata.nasa.gov/s3credentials').json()\n",
    "    s3 = s3fs.S3FileSystem(anon=False,\n",
    "                           key=creds['accessKeyId'],\n",
    "                           secret=creds['secretAccessKey'], \n",
    "                           token=creds['sessionToken'])\n",
    "    return s3\n",
    "# Define a function to load a single granule given year, month, and day\n",
    "def c_granule(fn):\n",
    "    ds = h5py.File(s3sys.open(fn),'r')\n",
    "    \n",
    "    # Define the California Current bounding box\n",
    "    min_lat, max_lat = 30, 50\n",
    "    min_lon, max_lon = -140, -110\n",
    "    lat,lon=ds['lat'][:],ds['lon'][:]\n",
    "    i0=np.where(np.abs(lat-min_lat)==np.abs(lat-min_lat).min())[0][0]\n",
    "    i1=np.where(np.abs(lat-max_lat)==np.abs(lat-max_lat).min())[0][0]\n",
    "    j0=np.where(np.abs(lon-min_lon)==np.abs(lon-min_lon).min())[0][0]\n",
    "    j1=np.where(np.abs(lon-max_lon)==np.abs(lon-max_lon).min())[0][0]\n",
    "    \n",
    "    # Define a function to process a single granule and return the regional mean SST\n",
    "    #msk=ds['mask'][0,10000:11000,10000:11000]==1\n",
    "    #sst=ds[\"analysed_sst\"][0,j0:j1,i0:i1]*0.001\n",
    "    sst=ds[\"analysed_sst\"][0,:10,:10]*0.001\n",
    "    #msk=ds['mask'][0,j0:j1,i0:i1]!=1\n",
    "    #sst = np.ma.masked_array(sst,mask=msk).mean()\n",
    "    del ds\n",
    "    return sst.mean()\n",
    "\n",
    "def downscaling_mursst(fn):\n",
    "    \"\"\"\n",
    "    This function reads a netCDF file from MUR SST 1km data,\n",
    "    processes the data by masking invalid values, reshaping, and computing the mean\n",
    "    temperature for each 1x1 degree box, and then returns the processed SST data.\n",
    "\n",
    "    Parameters\n",
    "    ----------\n",
    "    fn : str, s3 path\n",
    "\n",
    "    Returns\n",
    "    -------\n",
    "    sst : numpy.ma.core.MaskedArray (180x360)\n",
    "        A masked array containing the processed SST data in a 1x1 degree resolution, with invalid values masked\n",
    "        and the mean temperature computed for each granule.\n",
    "\n",
    "    Dependencies\n",
    "    ------------\n",
    "    This function depends on the following libraries:\n",
    "    - xarray (imported as xr)\n",
    "    - numpy (imported as np)\n",
    "    - s3fs (imported as s3sys)\n",
    "\n",
    "    Notes\n",
    "    -----\n",
    "    The input file is expected to be in netCDF format and should contain a variable\n",
    "    named 'analysed_sst' representing the sea surface temperature data, common in GHRSST products.\n",
    "\n",
    "    The function assumes a specific data structure, with dimensions of 1x17900x36000 in the input and\n",
    "    180x360 in the output. The 17900x36000 array was first expanded to 18000x36000 using np.r_[sst[0,:],sst].\n",
    "    \"\"\"\n",
    "    d = xr.open_dataset(s3sys.open(fn), engine='h5netcdf')\n",
    "    sst = d['analysed_sst'][0, ...]; del d\n",
    "    sst0 = np.ma.masked_invalid(np.r_[sst[0:1, :], sst]); del sst\n",
    "    sst = sst0.reshape(180, 100, 360, 100).mean(axis=-1).mean(axis=1); del sst0\n",
    "\n",
    "    return"
   ]
  },
  {
   "cell_type": "markdown",
   "id": "5708ec43-4ac8-4db1-b4fc-bdc72461f1f6",
   "metadata": {},
   "source": [
    "Find all granule names using s3fs.glob."
   ]
  },
  {
   "cell_type": "code",
   "execution_count": 7,
   "id": "64c22269-3f58-4cea-b4ab-fd0d24274afc",
   "metadata": {
    "tags": []
   },
   "outputs": [
    {
     "name": "stdout",
     "output_type": "stream",
     "text": [
      "total granules =  7606\n",
      "Example filename:  podaac-ops-cumulus-protected/MUR-JPL-L4-GLOB-v4.1/20020601090000-JPL-L4_GHRSST-SSTfnd-MUR-GLOB-v02.0-fv04.1.nc\n",
      "CPU times: user 2.08 s, sys: 59.4 ms, total: 2.14 s\n",
      "Wall time: 9.75 s\n"
     ]
    }
   ],
   "source": [
    "%%time\n",
    "s3sys=init_S3FileSystem()\n",
    "s3path=\"s3://podaac-ops-cumulus-protected/MUR-JPL-L4-GLOB-v4.1/\"\n",
    "fns=s3sys.glob(s3path+\"*.nc\")\n",
    "print(\"total granules = \",len(fns))\n",
    "print(\"Example filename: \", fns[0])"
   ]
  },
  {
   "cell_type": "markdown",
   "id": "e73b9404-90e9-49d7-86e8-f9aa6cb4dae7",
   "metadata": {},
   "source": [
    "Test the speed of loading one MUR-SST granule. "
   ]
  },
  {
   "cell_type": "code",
   "execution_count": 8,
   "id": "f79d9658-9ddc-4ec0-b79b-3f7277f1785f",
   "metadata": {
    "tags": []
   },
   "outputs": [
    {
     "name": "stdout",
     "output_type": "stream",
     "text": [
      "<KeysViewHDF5 ['analysed_sst', 'analysis_error', 'lat', 'lon', 'mask', 'sea_ice_fraction', 'time']>\n",
      "CPU times: user 5.91 s, sys: 2.5 s, total: 8.42 s\n",
      "Wall time: 17 s\n"
     ]
    },
    {
     "data": {
      "text/plain": [
       "(1, 17999, 36000)"
      ]
     },
     "execution_count": 8,
     "metadata": {},
     "output_type": "execute_result"
    }
   ],
   "source": [
    "%%time\n",
    "\n",
    "d=h5py.File(s3sys.open('s3://'+fns[0],'rb'))\n",
    "print((d.keys()))\n",
    "d['analysed_sst'][:].shape"
   ]
  },
  {
   "cell_type": "markdown",
   "id": "9c81a34f-1292-444e-84b3-c6c578d1636e",
   "metadata": {},
   "source": [
    "Wrap the process_granule function with dask.delayed."
   ]
  },
  {
   "cell_type": "code",
   "execution_count": 9,
   "id": "044e1cca-00e0-43d4-8fbc-ac5c0a07f6ba",
   "metadata": {
    "tags": []
   },
   "outputs": [
    {
     "name": "stdout",
     "output_type": "stream",
     "text": [
      "CPU times: user 295 ms, sys: 43.6 ms, total: 338 ms\n",
      "Wall time: 313 ms\n"
     ]
    }
   ],
   "source": [
    "%%time\n",
    "delayed_process_granule = delayed(downscaling_mursst)\n",
    "# Process all granules in parallel using Dask\n",
    "results = [delayed_process_granule(fn) for fn in fns]"
   ]
  },
  {
   "cell_type": "code",
   "execution_count": 10,
   "id": "7ed2b78d-e031-45af-aeca-f8433f72c7cf",
   "metadata": {
    "tags": []
   },
   "outputs": [
    {
     "ename": "CancelledError",
     "evalue": "downscaling_mursst-8719f5e6-aa61-43e3-a96d-2400532555d2",
     "output_type": "error",
     "traceback": [
      "\u001b[0;31m---------------------------------------------------------------------------\u001b[0m",
      "\u001b[0;31mCancelledError\u001b[0m                            Traceback (most recent call last)",
      "File \u001b[0;32m<timed eval>:1\u001b[0m\n",
      "File \u001b[0;32m/srv/conda/envs/notebook/lib/python3.9/site-packages/dask/base.py:599\u001b[0m, in \u001b[0;36mcompute\u001b[0;34m(traverse, optimize_graph, scheduler, get, *args, **kwargs)\u001b[0m\n\u001b[1;32m    596\u001b[0m     keys\u001b[38;5;241m.\u001b[39mappend(x\u001b[38;5;241m.\u001b[39m__dask_keys__())\n\u001b[1;32m    597\u001b[0m     postcomputes\u001b[38;5;241m.\u001b[39mappend(x\u001b[38;5;241m.\u001b[39m__dask_postcompute__())\n\u001b[0;32m--> 599\u001b[0m results \u001b[38;5;241m=\u001b[39m \u001b[43mschedule\u001b[49m\u001b[43m(\u001b[49m\u001b[43mdsk\u001b[49m\u001b[43m,\u001b[49m\u001b[43m \u001b[49m\u001b[43mkeys\u001b[49m\u001b[43m,\u001b[49m\u001b[43m \u001b[49m\u001b[38;5;241;43m*\u001b[39;49m\u001b[38;5;241;43m*\u001b[39;49m\u001b[43mkwargs\u001b[49m\u001b[43m)\u001b[49m\n\u001b[1;32m    600\u001b[0m \u001b[38;5;28;01mreturn\u001b[39;00m repack([f(r, \u001b[38;5;241m*\u001b[39ma) \u001b[38;5;28;01mfor\u001b[39;00m r, (f, a) \u001b[38;5;129;01min\u001b[39;00m \u001b[38;5;28mzip\u001b[39m(results, postcomputes)])\n",
      "File \u001b[0;32m/srv/conda/envs/notebook/lib/python3.9/site-packages/distributed/client.py:3137\u001b[0m, in \u001b[0;36mClient.get\u001b[0;34m(self, dsk, keys, workers, allow_other_workers, resources, sync, asynchronous, direct, retries, priority, fifo_timeout, actors, **kwargs)\u001b[0m\n\u001b[1;32m   3135\u001b[0m         should_rejoin \u001b[38;5;241m=\u001b[39m \u001b[38;5;28;01mFalse\u001b[39;00m\n\u001b[1;32m   3136\u001b[0m \u001b[38;5;28;01mtry\u001b[39;00m:\n\u001b[0;32m-> 3137\u001b[0m     results \u001b[38;5;241m=\u001b[39m \u001b[38;5;28;43mself\u001b[39;49m\u001b[38;5;241;43m.\u001b[39;49m\u001b[43mgather\u001b[49m\u001b[43m(\u001b[49m\u001b[43mpacked\u001b[49m\u001b[43m,\u001b[49m\u001b[43m \u001b[49m\u001b[43masynchronous\u001b[49m\u001b[38;5;241;43m=\u001b[39;49m\u001b[43masynchronous\u001b[49m\u001b[43m,\u001b[49m\u001b[43m \u001b[49m\u001b[43mdirect\u001b[49m\u001b[38;5;241;43m=\u001b[39;49m\u001b[43mdirect\u001b[49m\u001b[43m)\u001b[49m\n\u001b[1;32m   3138\u001b[0m \u001b[38;5;28;01mfinally\u001b[39;00m:\n\u001b[1;32m   3139\u001b[0m     \u001b[38;5;28;01mfor\u001b[39;00m f \u001b[38;5;129;01min\u001b[39;00m futures\u001b[38;5;241m.\u001b[39mvalues():\n",
      "File \u001b[0;32m/srv/conda/envs/notebook/lib/python3.9/site-packages/distributed/client.py:2306\u001b[0m, in \u001b[0;36mClient.gather\u001b[0;34m(self, futures, errors, direct, asynchronous)\u001b[0m\n\u001b[1;32m   2304\u001b[0m \u001b[38;5;28;01melse\u001b[39;00m:\n\u001b[1;32m   2305\u001b[0m     local_worker \u001b[38;5;241m=\u001b[39m \u001b[38;5;28;01mNone\u001b[39;00m\n\u001b[0;32m-> 2306\u001b[0m \u001b[38;5;28;01mreturn\u001b[39;00m \u001b[38;5;28;43mself\u001b[39;49m\u001b[38;5;241;43m.\u001b[39;49m\u001b[43msync\u001b[49m\u001b[43m(\u001b[49m\n\u001b[1;32m   2307\u001b[0m \u001b[43m    \u001b[49m\u001b[38;5;28;43mself\u001b[39;49m\u001b[38;5;241;43m.\u001b[39;49m\u001b[43m_gather\u001b[49m\u001b[43m,\u001b[49m\n\u001b[1;32m   2308\u001b[0m \u001b[43m    \u001b[49m\u001b[43mfutures\u001b[49m\u001b[43m,\u001b[49m\n\u001b[1;32m   2309\u001b[0m \u001b[43m    \u001b[49m\u001b[43merrors\u001b[49m\u001b[38;5;241;43m=\u001b[39;49m\u001b[43merrors\u001b[49m\u001b[43m,\u001b[49m\n\u001b[1;32m   2310\u001b[0m \u001b[43m    \u001b[49m\u001b[43mdirect\u001b[49m\u001b[38;5;241;43m=\u001b[39;49m\u001b[43mdirect\u001b[49m\u001b[43m,\u001b[49m\n\u001b[1;32m   2311\u001b[0m \u001b[43m    \u001b[49m\u001b[43mlocal_worker\u001b[49m\u001b[38;5;241;43m=\u001b[39;49m\u001b[43mlocal_worker\u001b[49m\u001b[43m,\u001b[49m\n\u001b[1;32m   2312\u001b[0m \u001b[43m    \u001b[49m\u001b[43masynchronous\u001b[49m\u001b[38;5;241;43m=\u001b[39;49m\u001b[43masynchronous\u001b[49m\u001b[43m,\u001b[49m\n\u001b[1;32m   2313\u001b[0m \u001b[43m\u001b[49m\u001b[43m)\u001b[49m\n",
      "File \u001b[0;32m/srv/conda/envs/notebook/lib/python3.9/site-packages/distributed/utils.py:338\u001b[0m, in \u001b[0;36mSyncMethodMixin.sync\u001b[0;34m(self, func, asynchronous, callback_timeout, *args, **kwargs)\u001b[0m\n\u001b[1;32m    336\u001b[0m     \u001b[38;5;28;01mreturn\u001b[39;00m future\n\u001b[1;32m    337\u001b[0m \u001b[38;5;28;01melse\u001b[39;00m:\n\u001b[0;32m--> 338\u001b[0m     \u001b[38;5;28;01mreturn\u001b[39;00m \u001b[43msync\u001b[49m\u001b[43m(\u001b[49m\n\u001b[1;32m    339\u001b[0m \u001b[43m        \u001b[49m\u001b[38;5;28;43mself\u001b[39;49m\u001b[38;5;241;43m.\u001b[39;49m\u001b[43mloop\u001b[49m\u001b[43m,\u001b[49m\u001b[43m \u001b[49m\u001b[43mfunc\u001b[49m\u001b[43m,\u001b[49m\u001b[43m \u001b[49m\u001b[38;5;241;43m*\u001b[39;49m\u001b[43margs\u001b[49m\u001b[43m,\u001b[49m\u001b[43m \u001b[49m\u001b[43mcallback_timeout\u001b[49m\u001b[38;5;241;43m=\u001b[39;49m\u001b[43mcallback_timeout\u001b[49m\u001b[43m,\u001b[49m\u001b[43m \u001b[49m\u001b[38;5;241;43m*\u001b[39;49m\u001b[38;5;241;43m*\u001b[39;49m\u001b[43mkwargs\u001b[49m\n\u001b[1;32m    340\u001b[0m \u001b[43m    \u001b[49m\u001b[43m)\u001b[49m\n",
      "File \u001b[0;32m/srv/conda/envs/notebook/lib/python3.9/site-packages/distributed/utils.py:405\u001b[0m, in \u001b[0;36msync\u001b[0;34m(loop, func, callback_timeout, *args, **kwargs)\u001b[0m\n\u001b[1;32m    403\u001b[0m \u001b[38;5;28;01mif\u001b[39;00m error:\n\u001b[1;32m    404\u001b[0m     typ, exc, tb \u001b[38;5;241m=\u001b[39m error\n\u001b[0;32m--> 405\u001b[0m     \u001b[38;5;28;01mraise\u001b[39;00m exc\u001b[38;5;241m.\u001b[39mwith_traceback(tb)\n\u001b[1;32m    406\u001b[0m \u001b[38;5;28;01melse\u001b[39;00m:\n\u001b[1;32m    407\u001b[0m     \u001b[38;5;28;01mreturn\u001b[39;00m result\n",
      "File \u001b[0;32m/srv/conda/envs/notebook/lib/python3.9/site-packages/distributed/utils.py:378\u001b[0m, in \u001b[0;36msync.<locals>.f\u001b[0;34m()\u001b[0m\n\u001b[1;32m    376\u001b[0m         future \u001b[38;5;241m=\u001b[39m asyncio\u001b[38;5;241m.\u001b[39mwait_for(future, callback_timeout)\n\u001b[1;32m    377\u001b[0m     future \u001b[38;5;241m=\u001b[39m asyncio\u001b[38;5;241m.\u001b[39mensure_future(future)\n\u001b[0;32m--> 378\u001b[0m     result \u001b[38;5;241m=\u001b[39m \u001b[38;5;28;01myield\u001b[39;00m future\n\u001b[1;32m    379\u001b[0m \u001b[38;5;28;01mexcept\u001b[39;00m \u001b[38;5;167;01mException\u001b[39;00m:\n\u001b[1;32m    380\u001b[0m     error \u001b[38;5;241m=\u001b[39m sys\u001b[38;5;241m.\u001b[39mexc_info()\n",
      "File \u001b[0;32m/srv/conda/envs/notebook/lib/python3.9/site-packages/tornado/gen.py:769\u001b[0m, in \u001b[0;36mRunner.run\u001b[0;34m(self)\u001b[0m\n\u001b[1;32m    766\u001b[0m exc_info \u001b[38;5;241m=\u001b[39m \u001b[38;5;28;01mNone\u001b[39;00m\n\u001b[1;32m    768\u001b[0m \u001b[38;5;28;01mtry\u001b[39;00m:\n\u001b[0;32m--> 769\u001b[0m     value \u001b[38;5;241m=\u001b[39m \u001b[43mfuture\u001b[49m\u001b[38;5;241;43m.\u001b[39;49m\u001b[43mresult\u001b[49m\u001b[43m(\u001b[49m\u001b[43m)\u001b[49m\n\u001b[1;32m    770\u001b[0m \u001b[38;5;28;01mexcept\u001b[39;00m \u001b[38;5;167;01mException\u001b[39;00m:\n\u001b[1;32m    771\u001b[0m     exc_info \u001b[38;5;241m=\u001b[39m sys\u001b[38;5;241m.\u001b[39mexc_info()\n",
      "File \u001b[0;32m/srv/conda/envs/notebook/lib/python3.9/site-packages/distributed/client.py:2170\u001b[0m, in \u001b[0;36mClient._gather\u001b[0;34m(self, futures, errors, direct, local_worker)\u001b[0m\n\u001b[1;32m   2168\u001b[0m     \u001b[38;5;28;01melse\u001b[39;00m:\n\u001b[1;32m   2169\u001b[0m         \u001b[38;5;28;01mraise\u001b[39;00m exception\u001b[38;5;241m.\u001b[39mwith_traceback(traceback)\n\u001b[0;32m-> 2170\u001b[0m     \u001b[38;5;28;01mraise\u001b[39;00m exc\n\u001b[1;32m   2171\u001b[0m \u001b[38;5;28;01mif\u001b[39;00m errors \u001b[38;5;241m==\u001b[39m \u001b[38;5;124m\"\u001b[39m\u001b[38;5;124mskip\u001b[39m\u001b[38;5;124m\"\u001b[39m:\n\u001b[1;32m   2172\u001b[0m     bad_keys\u001b[38;5;241m.\u001b[39madd(key)\n",
      "\u001b[0;31mCancelledError\u001b[0m: downscaling_mursst-8719f5e6-aa61-43e3-a96d-2400532555d2"
     ]
    },
    {
     "name": "stderr",
     "output_type": "stream",
     "text": [
      "2023-04-02 06:47:34,520 - distributed.client - ERROR - Failed to reconnect to scheduler after 30.00 seconds, closing client\n"
     ]
    }
   ],
   "source": [
    "%%time\n",
    "da.compute(*results)"
   ]
  },
  {
   "cell_type": "markdown",
   "id": "befaf75a-229a-4fa6-87b4-4b6254c50e9a",
   "metadata": {},
   "source": [
    "#### "
   ]
  },
  {
   "cell_type": "code",
   "execution_count": null,
   "id": "aa84890f-54ec-4bc7-bcd0-fc9525861d48",
   "metadata": {},
   "outputs": [],
   "source": []
  }
 ],
 "metadata": {
  "kernelspec": {
   "display_name": "Python 3 (ipykernel)",
   "language": "python",
   "name": "python3"
  },
  "language_info": {
   "codemirror_mode": {
    "name": "ipython",
    "version": 3
   },
   "file_extension": ".py",
   "mimetype": "text/x-python",
   "name": "python",
   "nbconvert_exporter": "python",
   "pygments_lexer": "ipython3",
   "version": "3.9.16"
  }
 },
 "nbformat": 4,
 "nbformat_minor": 5
}
