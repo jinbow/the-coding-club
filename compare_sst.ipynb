{
 "cells": [
  {
   "cell_type": "code",
   "execution_count": 1,
   "metadata": {},
   "outputs": [],
   "source": [
    "from src.CMRQuery import CMRQuery"
   ]
  },
  {
   "cell_type": "code",
   "execution_count": 2,
   "metadata": {},
   "outputs": [],
   "source": [
    "cmr_query = CMRQuery()\n"
   ]
  },
  {
   "cell_type": "code",
   "execution_count": 3,
   "metadata": {},
   "outputs": [
    {
     "name": "stdout",
     "output_type": "stream",
     "text": [
      "Saving list as JSON file: /Users/vmcdonal/s3_lists/s3_list.json\n"
     ]
    }
   ],
   "source": [
    "shortnames = cmr_query.query_collections_by_keyword(\n",
    "                            provider='POCLOUD',\n",
    "                            keywords=['sst', 'sea surface temperature'],\n",
    "                            processinglevel='4')"
   ]
  },
  {
   "cell_type": "code",
   "execution_count": 18,
   "metadata": {},
   "outputs": [
    {
     "name": "stdout",
     "output_type": "stream",
     "text": [
      "MUR-JPL-L4-GLOB-v4.1\n",
      "CMC0.1deg-CMC-L4-GLOB-v3.0\n",
      "MUR25-JPL-L4-GLOB-v04.2\n",
      "OSTIA-UKMO-L4-GLOB-v2.0\n",
      "K10_SST-NAVO-L4-GLOB-v01\n",
      "AVHRR_OI-NCEI-L4-GLOB-v2.1\n",
      "DMI_OI-DMI-L4-GLOB-v1.0\n",
      "GAMSSA_28km-ABOM-L4-GLOB-v01\n",
      "Geo_Polar_Blended-OSPO-L4-GLOB-v1.0\n",
      "RAMSSA_09km-ABOM-L4-AUS-v01\n",
      "Geo_Polar_Blended_Night-OSPO-L4-GLOB-v1.0\n",
      "MITgcm_LLC4320_Pre-SWOT_JPL_L4_BassStrait_v1.0\n",
      "MW_IR_OI-REMSS-L4-GLOB-v5.0\n",
      "MW_IR_OI-REMSS-L4-GLOB-v5.1\n",
      "MW_OI-REMSS-L4-GLOB-v5.0\n",
      "MW_OI-REMSS-L4-GLOB-v5.1\n",
      "OISST_HR_NRT-GOS-L4-BLK-v2.0\n",
      "OISST_HR_NRT-GOS-L4-MED-v2.0\n",
      "OISST_UHR_NRT-GOS-L4-BLK-v2.0\n",
      "OISST_UHR_NRT-GOS-L4-MED-v2.0\n",
      "REYNOLDS_NCDC_L4_MONTHLY_V5\n"
     ]
    }
   ],
   "source": [
    "for s in shortnames:\n",
    "    print(s)"
   ]
  },
  {
   "cell_type": "code",
   "execution_count": 13,
   "metadata": {},
   "outputs": [],
   "source": [
    "granule_URLs = cmr_query.query_granules_by_shortname(\n",
    "                            shortnames=shortnames, \n",
    "                            provider=\"POCLOUD\", \n",
    "                            temporal_range=\"2022-07-18T00:00:00Z,2022-07-18T23:59:59Z\")"
   ]
  },
  {
   "cell_type": "code",
   "execution_count": 17,
   "metadata": {},
   "outputs": [
    {
     "name": "stdout",
     "output_type": "stream",
     "text": [
      "s3://podaac-ops-cumulus-protected/MUR-JPL-L4-GLOB-v4.1/20220718090000-JPL-L4_GHRSST-SSTfnd-MUR-GLOB-v02.0-fv04.1.nc\n",
      "s3://podaac-ops-cumulus-protected/MUR-JPL-L4-GLOB-v4.1/20220719090000-JPL-L4_GHRSST-SSTfnd-MUR-GLOB-v02.0-fv04.1.nc\n",
      "s3://podaac-ops-cumulus-protected/CMC0.1deg-CMC-L4-GLOB-v3.0/20220717120000-CMC-L4_GHRSST-SSTfnd-CMC0.1deg-GLOB-v02.0-fv03.0.nc\n",
      "s3://podaac-ops-cumulus-protected/CMC0.1deg-CMC-L4-GLOB-v3.0/20220718120000-CMC-L4_GHRSST-SSTfnd-CMC0.1deg-GLOB-v02.0-fv03.0.nc\n",
      "s3://podaac-ops-cumulus-protected/MUR25-JPL-L4-GLOB-v04.2/20220718090000-JPL-L4_GHRSST-SSTfnd-MUR25-GLOB-v02.0-fv04.2.nc\n",
      "s3://podaac-ops-cumulus-protected/MUR25-JPL-L4-GLOB-v04.2/20220719090000-JPL-L4_GHRSST-SSTfnd-MUR25-GLOB-v02.0-fv04.2.nc\n",
      "s3://podaac-ops-cumulus-protected/OSTIA-UKMO-L4-GLOB-v2.0/20220717120000-UKMO-L4_GHRSST-SSTfnd-OSTIA-GLOB-v02.0-fv02.0.nc\n",
      "s3://podaac-ops-cumulus-protected/OSTIA-UKMO-L4-GLOB-v2.0/20220718120000-UKMO-L4_GHRSST-SSTfnd-OSTIA-GLOB-v02.0-fv02.0.nc\n",
      "s3://podaac-ops-cumulus-protected/K10_SST-NAVO-L4-GLOB-v01/20220718000000-NAVO-L4_GHRSST-SST1m-K10_SST-GLOB-v02.0-fv01.0.nc\n",
      "s3://podaac-ops-cumulus-protected/AVHRR_OI-NCEI-L4-GLOB-v2.1/20220717120000-NCEI-L4_GHRSST-SSTblend-AVHRR_OI-GLOB-v02.0-fv02.1.nc\n",
      "s3://podaac-ops-cumulus-protected/AVHRR_OI-NCEI-L4-GLOB-v2.1/20220718120000-NCEI-L4_GHRSST-SSTblend-AVHRR_OI-GLOB-v02.0-fv02.1.nc\n",
      "s3://podaac-ops-cumulus-protected/DMI_OI-DMI-L4-GLOB-v1.0/20220717000000-DMI-L4_GHRSST-SSTfnd-DMI_OI-GLOB-v02.0-fv01.0.nc\n",
      "s3://podaac-ops-cumulus-protected/DMI_OI-DMI-L4-GLOB-v1.0/20220718000000-DMI-L4_GHRSST-SSTfnd-DMI_OI-GLOB-v02.0-fv01.0.nc\n",
      "s3://podaac-ops-cumulus-protected/GAMSSA_28km-ABOM-L4-GLOB-v01/20220717120000-ABOM-L4_GHRSST-SSTfnd-GAMSSA_28km-GLOB-v02.0-fv01.0.nc\n",
      "s3://podaac-ops-cumulus-protected/GAMSSA_28km-ABOM-L4-GLOB-v01/20220718120000-ABOM-L4_GHRSST-SSTfnd-GAMSSA_28km-GLOB-v02.0-fv01.0.nc\n",
      "s3://podaac-ops-cumulus-protected/Geo_Polar_Blended-OSPO-L4-GLOB-v1.0/20220717000000-OSPO-L4_GHRSST-SSTfnd-Geo_Polar_Blended-GLOB-v02.0-fv01.0.nc\n",
      "s3://podaac-ops-cumulus-protected/Geo_Polar_Blended-OSPO-L4-GLOB-v1.0/20220718000000-OSPO-L4_GHRSST-SSTfnd-Geo_Polar_Blended-GLOB-v02.0-fv01.0.nc\n",
      "s3://podaac-ops-cumulus-protected/RAMSSA_09km-ABOM-L4-AUS-v01/20220717120000-ABOM-L4_GHRSST-SSTfnd-RAMSSA_09km-AUS-v02.0-fv01.0.nc\n",
      "s3://podaac-ops-cumulus-protected/RAMSSA_09km-ABOM-L4-AUS-v01/20220718120000-ABOM-L4_GHRSST-SSTfnd-RAMSSA_09km-AUS-v02.0-fv01.0.nc\n",
      "s3://podaac-ops-cumulus-protected/Geo_Polar_Blended_Night-OSPO-L4-GLOB-v1.0/20220717000000-OSPO-L4_GHRSST-SSTfnd-Geo_Polar_Blended_Night-GLOB-v02.0-fv01.0.nc\n",
      "s3://podaac-ops-cumulus-protected/Geo_Polar_Blended_Night-OSPO-L4-GLOB-v1.0/20220718000000-OSPO-L4_GHRSST-SSTfnd-Geo_Polar_Blended_Night-GLOB-v02.0-fv01.0.nc\n",
      "s3://podaac-ops-cumulus-protected/MW_IR_OI-REMSS-L4-GLOB-v5.0/20220718120000-REMSS-L4_GHRSST-SSTfnd-MW_IR_OI-GLOB-v02.0-fv05.0.nc\n",
      "s3://podaac-ops-cumulus-protected/MW_IR_OI-REMSS-L4-GLOB-v5.1/20220718120000-REMSS-L4_GHRSST-SSTfnd-MW_IR_OI-GLOB-v02.0-fv05.1.nc\n",
      "s3://podaac-ops-cumulus-protected/MW_OI-REMSS-L4-GLOB-v5.0/20220718120000-REMSS-L4_GHRSST-SSTfnd-MW_OI-GLOB-v02.0-fv05.0.nc\n",
      "s3://podaac-ops-cumulus-protected/MW_OI-REMSS-L4-GLOB-v5.1/20220718120000-REMSS-L4_GHRSST-SSTfnd-MW_OI-GLOB-v02.0-fv05.1.nc\n",
      "s3://podaac-ops-cumulus-protected/OISST_HR_NRT-GOS-L4-BLK-v2.0/20220718000000-GOS-L4_GHRSST-SSTfnd-OISST_HR_NRT-BLK-v02.0-fv01.0.nc\n",
      "s3://podaac-ops-cumulus-protected/OISST_HR_NRT-GOS-L4-MED-v2.0/20220718000000-GOS-L4_GHRSST-SSTfnd-OISST_HR_NRT-MED-v02.0-fv01.0.nc\n",
      "s3://podaac-ops-cumulus-protected/OISST_UHR_NRT-GOS-L4-BLK-v2.0/20220718000000-GOS-L4_GHRSST-SSTfnd-OISST_UHR_NRT-BLK-v02.0-fv01.0.nc\n",
      "s3://podaac-ops-cumulus-protected/OISST_UHR_NRT-GOS-L4-MED-v2.0/20220718000000-GOS-L4_GHRSST-SSTfnd-OISST_UHR_NRT-MED-v02.0-fv01.0.nc\n",
      "s3://podaac-ops-cumulus-protected/REYNOLDS_NCDC_L4_MONTHLY_V5/ersst.v5.202207.nc\n"
     ]
    }
   ],
   "source": [
    "for l in granule_URLs:\n",
    "    for u in l:\n",
    "        print(u)"
   ]
  }
 ],
 "metadata": {
  "kernelspec": {
   "display_name": "Python 3.9.13 ('scratch')",
   "language": "python",
   "name": "python3"
  },
  "language_info": {
   "codemirror_mode": {
    "name": "ipython",
    "version": 3
   },
   "file_extension": ".py",
   "mimetype": "text/x-python",
   "name": "python",
   "nbconvert_exporter": "python",
   "pygments_lexer": "ipython3",
   "version": "3.9.13"
  },
  "orig_nbformat": 4,
  "vscode": {
   "interpreter": {
    "hash": "32a40736d00c188d2effbb1afc97ba7e733733270c902b4998c089acce9c970f"
   }
  }
 },
 "nbformat": 4,
 "nbformat_minor": 2
}
